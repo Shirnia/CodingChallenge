{
 "cells": [
  {
   "cell_type": "code",
   "execution_count": 3,
   "metadata": {},
   "outputs": [],
   "source": [
    "#Overview of Challenge: \n",
    "#\n",
    "#Challenge\n",
    "#In tmdb_5000_movies.csv you’ll find the top movies as listed by https://www.themoviedb.org/\n",
    "#(https://www.themoviedb.org/). Read in the file and then:\n",
    "#1. Produce a summary of the dataset - size/shape, column headers, unique values etc.\n",
    "#2. Calculate basic statistics of the data - (max, mins, count, mean, std, etc) and examine data and state your\n",
    "#observations.\n",
    "#3. Self led exploration - Do any data exploration you think would be of interest and create visualisations that show your\n",
    "#work and support observations.\n",
    "#4. Create your own top 250 - Use the formula below to create a new top 250 and check if where it maps with the\n",
    "#ranking in the database provided(source https://en.wikipedia.org/wiki/IMDb#Rankings (https://en.wikipedia.org\n",
    "#/wiki/IMDb#Rankings)):\n",
    "#\n",
    "#Where:\n",
    "#W = weighted rating\n",
    "#R = average rating for the movie as a number from 1 to 10 (vote_average)\n",
    "#v = number of votes for the movie (vote_count)\n",
    "#m = minimum votes required to be listed in the Top 250 (currently 25,000)\n",
    "#C = the mean vote across the whole report"
   ]
  },
  {
   "cell_type": "code",
   "execution_count": 17,
   "metadata": {},
   "outputs": [],
   "source": [
    "#Overview of Scripts\n",
    "##Imports\n",
    "##Read CSV\n",
    "##Challenge 1\n",
    "##Challenge 2\n",
    "##Challenge 3\n",
    "##Challenge 4"
   ]
  },
  {
   "cell_type": "code",
   "execution_count": 18,
   "metadata": {
    "scrolled": true
   },
   "outputs": [],
   "source": [
    "# Imports \n",
    "import os\n",
    "import pandas as pd"
   ]
  },
  {
   "cell_type": "code",
   "execution_count": 19,
   "metadata": {},
   "outputs": [],
   "source": [
    "# Check CSV file titled \"IMDB_500_Movies.csv\" & then read file\n",
    "cwd = os.getcwd()\n",
    "csvPath = cwd + \"/IMDB_500_Movies.csv\"\n",
    "try:\n",
    "    rawData = pd.read_csv(csvPath)\n",
    "except FileNotFoundError:\n",
    "    raise FileNotFoundError(\"Attempted to read the file: \"+csvPath +\"\\n The file was not found. Please check the csv is named correctly (IMDB_500_Movies.csv) and in the root directory of this script!\")"
   ]
  },
  {
   "cell_type": "code",
   "execution_count": 20,
   "metadata": {},
   "outputs": [],
   "source": [
    "# Generate DataFrame using Pandas\n",
    "df = pd.DataFrame(rawData)"
   ]
  },
  {
   "cell_type": "code",
   "execution_count": 21,
   "metadata": {},
   "outputs": [
    {
     "name": "stdout",
     "output_type": "stream",
     "text": [
      "<class 'pandas.core.frame.DataFrame'>\n",
      "RangeIndex: 10866 entries, 0 to 10865\n",
      "Data columns (total 21 columns):\n",
      " #   Column                Non-Null Count  Dtype  \n",
      "---  ------                --------------  -----  \n",
      " 0   id                    10866 non-null  int64  \n",
      " 1   imdb_id               10856 non-null  object \n",
      " 2   popularity            10866 non-null  float64\n",
      " 3   budget                10866 non-null  int64  \n",
      " 4   revenue               10866 non-null  int64  \n",
      " 5   original_title        10866 non-null  object \n",
      " 6   cast                  10790 non-null  object \n",
      " 7   homepage              2936 non-null   object \n",
      " 8   director              10822 non-null  object \n",
      " 9   tagline               8042 non-null   object \n",
      " 10  keywords              9373 non-null   object \n",
      " 11  overview              10862 non-null  object \n",
      " 12  runtime               10866 non-null  int64  \n",
      " 13  genres                10843 non-null  object \n",
      " 14  production_companies  9836 non-null   object \n",
      " 15  release_date          10866 non-null  object \n",
      " 16  vote_count            10866 non-null  int64  \n",
      " 17  vote_average          10866 non-null  float64\n",
      " 18  release_year          10866 non-null  int64  \n",
      " 19  budget_adj            10866 non-null  float64\n",
      " 20  revenue_adj           10866 non-null  float64\n",
      "dtypes: float64(4), int64(6), object(11)\n",
      "memory usage: 1.7+ MB\n"
     ]
    }
   ],
   "source": [
    "#Challenge 1. Produce a summary of the dataset - size/shape, column headers, unique values etc.\n",
    "## Using Pandas create Generic Info Overview of DataFrame\n",
    "## this data provides the RangeIndex (number of enteries)\n",
    "## and the Data columns (number of columns)\n",
    "## it also gives generic data type information and the number of non-null datapoints for each column\n",
    "df.info()"
   ]
  },
  {
   "cell_type": "code",
   "execution_count": 22,
   "metadata": {},
   "outputs": [
    {
     "name": "stdout",
     "output_type": "stream",
     "text": [
      "Row count:\n",
      "10866\n",
      "\n",
      "Column count:\n",
      "21\n",
      "\n",
      "Data types:\n",
      "id                        int64\n",
      "imdb_id                  object\n",
      "popularity              float64\n",
      "budget                    int64\n",
      "revenue                   int64\n",
      "original_title           object\n",
      "cast                     object\n",
      "homepage                 object\n",
      "director                 object\n",
      "tagline                  object\n",
      "keywords                 object\n",
      "overview                 object\n",
      "runtime                   int64\n",
      "genres                   object\n",
      "production_companies     object\n",
      "release_date             object\n",
      "vote_count                int64\n",
      "vote_average            float64\n",
      "release_year              int64\n",
      "budget_adj              float64\n",
      "revenue_adj             float64\n",
      "dtype: object\n",
      "\n"
     ]
    }
   ],
   "source": [
    "#Challenge 1cont. Produce a summary of the dataset - size/shape, column headers, unique values etc.\n",
    "## The above cell seems against the intention of the question, so below is a recreation of this data in my own methods\n",
    "count_row = df.shape[0]  # Gives number of rows\n",
    "count_col = df.shape[1]  # Gives number of columns\n",
    "dat_types = df.dtypes #gives both name of column and datatypes\n",
    "\n",
    "print(\"Row count:\\n{}\\n\".format(count_row))\n",
    "print(\"Column count:\\n{}\\n\".format(count_col))\n",
    "print(\"Data types:\\n{}\\n\".format(dat_types))\n",
    "\n"
   ]
  },
  {
   "cell_type": "code",
   "execution_count": 31,
   "metadata": {},
   "outputs": [
    {
     "name": "stdout",
     "output_type": "stream",
     "text": [
      "                  id    popularity        budget       revenue       runtime  \\\n",
      "count   10866.000000  10866.000000  1.086600e+04  1.086600e+04  10866.000000   \n",
      "mean    66064.177434      0.646441  1.462570e+07  3.982332e+07    102.070863   \n",
      "std     92130.136561      1.000185  3.091321e+07  1.170035e+08     31.381405   \n",
      "min         5.000000      0.000065  0.000000e+00  0.000000e+00      0.000000   \n",
      "25%     10596.250000      0.207583  0.000000e+00  0.000000e+00     90.000000   \n",
      "50%     20669.000000      0.383856  0.000000e+00  0.000000e+00     99.000000   \n",
      "75%     75610.000000      0.713817  1.500000e+07  2.400000e+07    111.000000   \n",
      "max    417859.000000     32.985763  4.250000e+08  2.781506e+09    900.000000   \n",
      "\n",
      "         vote_count  vote_average  release_year    budget_adj   revenue_adj  \\\n",
      "count  10866.000000  10866.000000  10866.000000  1.086600e+04  1.086600e+04   \n",
      "mean     217.389748      5.974922   2001.322658  1.755104e+07  5.136436e+07   \n",
      "std      575.619058      0.935142     12.812941  3.430616e+07  1.446325e+08   \n",
      "min       10.000000      1.500000   1960.000000  0.000000e+00  0.000000e+00   \n",
      "25%       17.000000      5.400000   1995.000000  0.000000e+00  0.000000e+00   \n",
      "50%       38.000000      6.000000   2006.000000  0.000000e+00  0.000000e+00   \n",
      "75%      145.750000      6.600000   2011.000000  2.085325e+07  3.369710e+07   \n",
      "max     9767.000000      9.200000   2015.000000  4.250000e+08  2.827124e+09   \n",
      "\n",
      "       weighted_rating  \n",
      "count     10866.000000  \n",
      "mean          5.979831  \n",
      "std           0.026540  \n",
      "min           5.882140  \n",
      "25%           5.974205  \n",
      "50%           5.974991  \n",
      "75%           5.976262  \n",
      "max           6.515729  \n"
     ]
    }
   ],
   "source": [
    "#Challenge 2. Calculate basic statistics of the data - (max, mins, count, mean, std, etc) and examine data and state your observations.\n",
    "## Using Pandas, create description that gives more statistics on DataFrame\n",
    "print(df.describe())"
   ]
  },
  {
   "cell_type": "code",
   "execution_count": 24,
   "metadata": {},
   "outputs": [
    {
     "name": "stdout",
     "output_type": "stream",
     "text": [
      "Column Name: id\tCount:10866\tMean:66064.2\tMin:5\tMax:417859\tStd:92130.1\n",
      "Column Name: popularity\tCount:10866\tMean:0.6\tMin:6.500000000000001e-05\tMax:32.985763\tStd:1.0\n",
      "Column Name: budget\tCount:10866\tMean:14625701.1\tMin:0\tMax:425000000\tStd:30913213.8\n",
      "Column Name: revenue\tCount:10866\tMean:39823319.8\tMin:0\tMax:2781505847\tStd:117003486.6\n",
      "Column Name: runtime\tCount:10866\tMean:102.1\tMin:0\tMax:900\tStd:31.4\n",
      "Column Name: vote_count\tCount:10866\tMean:217.4\tMin:10\tMax:9767\tStd:575.6\n",
      "Column Name: vote_average\tCount:10866\tMean:6.0\tMin:1.5\tMax:9.2\tStd:0.9\n",
      "Column Name: release_year\tCount:10866\tMean:2001.3\tMin:1960\tMax:2015\tStd:12.8\n",
      "Column Name: budget_adj\tCount:10866\tMean:17551039.8\tMin:0.0\tMax:425000000.0\tStd:34306155.7\n",
      "Column Name: revenue_adj\tCount:10866\tMean:51364363.3\tMin:0.0\tMax:2827123750.0\tStd:144632485.0\n"
     ]
    }
   ],
   "source": [
    "#Challenge 2cont. Calculate basic statistics of the data - (max, mins, count, mean, std, etc) and examine data and state your observations.\n",
    "## Again, the above cell seems against the intention of the question, so below is a recreation of this data in my own methods\n",
    "## List key points of interest (poi)\n",
    "poi = ['id','popularity','budget','revenue','runtime','vote_count','vote_average','release_year','budget_adj','revenue_adj']\n",
    "\n",
    "##Loop over points of interest\n",
    "for val in poi:\n",
    "    coldata = df[val]\n",
    "\n",
    "    num  = coldata.count()\n",
    "    mean =  round(coldata.mean(),1)\n",
    "    min  = coldata.min()\n",
    "    max  = coldata.max()\n",
    "    std  = round(coldata.std(),1)\n",
    "    \n",
    "    print(\"Column Name: {}\\tCount:{}\\tMean:{}\\tMin:{}\\tMax:{}\\tStd:{}\".format(val,num,mean,min,max,std))"
   ]
  },
  {
   "cell_type": "code",
   "execution_count": 25,
   "metadata": {},
   "outputs": [
    {
     "data": {
      "image/png": "[encoded data removed]",
      "text/plain": [
       "<Figure size 432x288 with 1 Axes>"
      ]
     },
     "metadata": {
      "needs_background": "light"
     },
     "output_type": "display_data"
    }
   ],
   "source": [
    "#Challenge 2cont.\n",
    "## Plot and find outliers for runtime\n",
    "bp = df.boxplot(column = ['runtime'])"
   ]
  },
  {
   "cell_type": "code",
   "execution_count": 26,
   "metadata": {},
   "outputs": [
    {
     "name": "stdout",
     "output_type": "stream",
     "text": [
      "Number of movies with 0 mins runtime: 31\n",
      "Number of movies with 0 budget:  5696\n",
      "Number of movies with 0 revenue: 6016\n",
      "All movies with 0 budget have 0 adjusted budjet: True\n",
      "number of movies with broken budget and revenue: 4701\n"
     ]
    }
   ],
   "source": [
    "# Challenge 2cont.\n",
    "## From the boxplot above it seems that there are many movies that are not populated correctly\n",
    "print(\"Number of movies with 0 mins runtime: {}\".format(df[df.runtime == df.runtime.min()].id.count()))\n",
    "print(\"Number of movies with 0 budget:  {}\".format(df[df.budget == df.budget.min()].id.count()))\n",
    "print(\"Number of movies with 0 revenue: {}\".format(df[df.revenue == df.revenue.min()].id.count()))\n",
    "\n",
    "## Thats alot of movies with 0 budget or revenue\n",
    "## Do the same movies had adjusted budgets/revenues?\n",
    "qry_budget  = df[df.budget == df.budget.min()]\n",
    "qry_revenue = df[df.revenue == df.revenue.min()]\n",
    "\n",
    "all_broken_budget = qry_budget[qry_budget.budget_adj == 0].id.count() == qry_budget.id.count()\n",
    "print(\"All movies with 0 budget have 0 adjusted budjet: {}\".format(all_broken_budget))\n",
    "\n",
    "#broken_budget_revenue = qry_budget[qry_budget.id == qry_revenue.id]\n",
    "broken_budget_revenue = pd.merge(qry_budget,qry_revenue, on=[\"id\"], right_index=True)\n",
    "print(\"number of movies with broken budget and revenue: {}\".format(broken_budget_revenue.id.count()))"
   ]
  },
  {
   "cell_type": "code",
   "execution_count": 27,
   "metadata": {},
   "outputs": [
    {
     "name": "stdout",
     "output_type": "stream",
     "text": [
      "                  id  popularity        budget       revenue     runtime  \\\n",
      "count     500.000000  500.000000  5.000000e+02  5.000000e+02  500.000000   \n",
      "mean   106283.574000    0.310556  4.964221e+06  2.926273e+06   92.050000   \n",
      "std    111453.452412    0.284258  1.292918e+07  1.275326e+07   13.237597   \n",
      "min       580.000000    0.001423  0.000000e+00  0.000000e+00    0.000000   \n",
      "25%     18379.250000    0.146372  0.000000e+00  0.000000e+00   87.000000   \n",
      "50%     48555.500000    0.259942  0.000000e+00  0.000000e+00   90.000000   \n",
      "75%    193940.000000    0.383900  3.000000e+06  0.000000e+00   96.000000   \n",
      "max    368256.000000    2.601775  1.000000e+08  1.496738e+08  178.000000   \n",
      "\n",
      "       vote_count  vote_average  release_year    budget_adj   revenue_adj  \n",
      "count   500.00000    500.000000    500.000000  5.000000e+02  5.000000e+02  \n",
      "mean     29.56400      3.739600   2006.338000  5.962684e+06  3.979866e+06  \n",
      "std      51.82352      0.510679      9.420257  1.557900e+07  1.710479e+07  \n",
      "min      10.00000      1.500000   1966.000000  0.000000e+00  0.000000e+00  \n",
      "25%      12.00000      3.500000   2003.000000  0.000000e+00  0.000000e+00  \n",
      "50%      16.00000      3.900000   2010.000000  0.000000e+00  0.000000e+00  \n",
      "75%      24.00000      4.100000   2013.000000  3.069029e+06  0.000000e+00  \n",
      "max     810.00000      4.300000   2015.000000  1.016400e+08  1.926311e+08  \n",
      "500\n"
     ]
    }
   ],
   "source": [
    "#Challenge 3. Self led exploration - Do any data exploration you think would be of interest and create visualisations that show your work and support observations.\n",
    "## get top 500 movies from vote_average alone and do some analysis\n",
    "top500 = df.sort_values(by=['vote_average']).head(500)\n",
    "\n",
    "print(top500.describe())\n",
    "print(top500.id.count())\n",
    "## Check the values make sense for \n",
    "\n",
    "# create row for profit generated by movie\n",
    "top500['profit_adj'] = top500['revenue_adj']-top500['budget_adj']\n",
    "\n",
    "\n",
    "#print(top500['profit_adj'].describe())\n",
    "# create boxplot to visualise data\n",
    "#top500 = top500.boxplot(column = ['profit_adj'])\n",
    "#bp gives very little visual data\n",
    "#top500.sort_values(by=['profit_adj'])\n",
    "#plt = top500.plot(kind = 'bar', y = ['profit_adj','budget_adj','revenue_adj'],x = ('id'))\n"
   ]
  },
  {
   "cell_type": "code",
   "execution_count": 28,
   "metadata": {},
   "outputs": [],
   "source": [
    "\n",
    "# minimum runtime = 0 mins? \n",
    "#print(\"Minimum Runtime Movie Titles:\\n{} \\t {}\".format(df[df.runtime == df.runtime.min()].original_title,df[df.runtime == df.runtime.min()].profit_adj))"
   ]
  },
  {
   "cell_type": "code",
   "execution_count": 30,
   "metadata": {},
   "outputs": [
    {
     "name": "stdout",
     "output_type": "stream",
     "text": [
      "61      5.882140\n",
      "5442    5.891820\n",
      "102     5.909804\n",
      "5502    5.916402\n",
      "11      5.919198\n",
      "          ...   \n",
      "2409    6.381960\n",
      "629     6.392693\n",
      "4178    6.428648\n",
      "2875    6.510895\n",
      "1919    6.515729\n",
      "Name: weighted_rating, Length: 10866, dtype: float64\n",
      "None\n"
     ]
    }
   ],
   "source": [
    "#Challenge4. Create your own top 250 - Use the formula below to create a new top 250 and check if where it maps with the\n",
    "#ranking in the database provided(source https://en.wikipedia.org/wiki/IMDb#Rankings (https://en.wikipedia.org\n",
    "#/wiki/IMDb#Rankings)):\n",
    "#\n",
    "#Where:\n",
    "#W = weighted rating\n",
    "#R = average rating for the movie as a number from 1 to 10 (vote_average)\n",
    "#v = number of votes for the movie (vote_count)\n",
    "#m = minimum votes required to be listed in the Top 250 (currently 25,000)\n",
    "#C = the mean vote across the whole report\n",
    "\n",
    "R = df[\"vote_average\"]\n",
    "v = df[\"vote_count\"]\n",
    "m = 25000\n",
    "C = df[\"vote_average\"].mean()\n",
    "\n",
    "df[\"weighted_rating\"] = (R*v+C*m)/(v+m)\n",
    "print(df[\"weighted_rating\"])\n",
    "a = df.sort_values(by=[\"weighted_rating\"],inplace=True)\n",
    "print(a)"
   ]
  },
  {
   "cell_type": "code",
   "execution_count": null,
   "metadata": {},
   "outputs": [],
   "source": []
  },
  {
   "cell_type": "code",
   "execution_count": null,
   "metadata": {},
   "outputs": [],
   "source": []
  }
 ],
 "metadata": {
  "kernelspec": {
   "display_name": "Python 3",
   "language": "python",
   "name": "python3"
  },
  "language_info": {
   "codemirror_mode": {
    "name": "ipython",
    "version": 3
   },
   "file_extension": ".py",
   "mimetype": "text/x-python",
   "name": "python",
   "nbconvert_exporter": "python",
   "pygments_lexer": "ipython3",
   "version": "3.8.5"
  }
 },
 "nbformat": 4,
 "nbformat_minor": 4
}
